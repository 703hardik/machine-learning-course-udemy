{
 "cells": [
  {
   "cell_type": "code",
   "execution_count": 1,
   "id": "focal-brass",
   "metadata": {},
   "outputs": [],
   "source": [
    "import numpy as np\n",
    "import matplotlib.pyplot as plt\n",
    "import pandas as pd\n",
    "import random\n",
    "%matplotlib inline"
   ]
  },
  {
   "cell_type": "code",
   "execution_count": 2,
   "id": "amazing-aquarium",
   "metadata": {},
   "outputs": [],
   "source": [
    "data= pd.read_csv('Ads_CTR_Optimisation.csv')"
   ]
  },
  {
   "cell_type": "code",
   "execution_count": 3,
   "id": "extreme-willow",
   "metadata": {},
   "outputs": [],
   "source": [
    "N=300\n",
    "d=10\n",
    "ads_selected = []\n",
    "numbers_of_rewards_1 = [0]*d\n",
    "numbers_of_rewards_0 = [0]*d\n",
    "total_rewards = 0\n",
    "for j in range(0,N):\n",
    "    ad=0\n",
    "    max_random=0\n",
    "    for i in range(0,d):\n",
    "        random_beta= random.betavariate(numbers_of_rewards_1[i]+1,numbers_of_rewards_0[i]+1)\n",
    "        if random_beta>max_random:\n",
    "            max_random= random_beta\n",
    "            ad=i\n",
    "    ads_selected.append(ad)\n",
    "    reward= data.values[j,ad]\n",
    "    if reward==1:\n",
    "        numbers_of_rewards_1[ad]=numbers_of_rewards_1[ad]+1\n",
    "    else:\n",
    "        numbers_of_rewards_0[ad]=numbers_of_rewards_0[ad]+1\n",
    "    total_rewards=total_rewards+reward"
   ]
  },
  {
   "cell_type": "code",
   "execution_count": 4,
   "id": "banner-ability",
   "metadata": {},
   "outputs": [
    {
     "data": {
      "image/png": "[encoded data removed]",
      "text/plain": [
       "<Figure size 432x288 with 1 Axes>"
      ]
     },
     "metadata": {
      "needs_background": "light"
     },
     "output_type": "display_data"
    }
   ],
   "source": [
    "plt.hist(ads_selected)\n",
    "plt.title('Histogram of ads selections')\n",
    "plt.xlabel('Ads')\n",
    "plt.ylabel('Number of times each ad was selected')\n",
    "plt.show()"
   ]
  },
  {
   "cell_type": "code",
   "execution_count": null,
   "id": "minor-magic",
   "metadata": {},
   "outputs": [],
   "source": []
  }
 ],
 "metadata": {
  "kernelspec": {
   "display_name": "Python 3",
   "language": "python",
   "name": "python3"
  },
  "language_info": {
   "codemirror_mode": {
    "name": "ipython",
    "version": 3
   },
   "file_extension": ".py",
   "mimetype": "text/x-python",
   "name": "python",
   "nbconvert_exporter": "python",
   "pygments_lexer": "ipython3",
   "version": "3.7.4"
  }
 },
 "nbformat": 4,
 "nbformat_minor": 5
}
