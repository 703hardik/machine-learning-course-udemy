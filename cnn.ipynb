{
 "cells": [
  {
   "cell_type": "code",
   "execution_count": 2,
   "id": "neither-looking",
   "metadata": {},
   "outputs": [],
   "source": [
    "import tensorflow as tf\n",
    "from keras.preprocessing.image import ImageDataGenerator"
   ]
  },
  {
   "cell_type": "code",
   "execution_count": 3,
   "id": "thirty-congo",
   "metadata": {},
   "outputs": [
    {
     "name": "stdout",
     "output_type": "stream",
     "text": [
      "Found 8000 images belonging to 2 classes.\n"
     ]
    }
   ],
   "source": [
    "train_datagen = ImageDataGenerator(rescale = 1./255,\n",
    "                                   shear_range = 0.2,\n",
    "                                   zoom_range = 0.2,\n",
    "                                   horizontal_flip = True)\n",
    "training_set = train_datagen.flow_from_directory('dataset/training_set',\n",
    "                                                 target_size = (64, 64),\n",
    "                                                 batch_size = 32,\n",
    "                                                 class_mode = 'binary')"
   ]
  },
  {
   "cell_type": "code",
   "execution_count": 4,
   "id": "legal-grammar",
   "metadata": {},
   "outputs": [
    {
     "name": "stdout",
     "output_type": "stream",
     "text": [
      "Found 2000 images belonging to 2 classes.\n"
     ]
    }
   ],
   "source": [
    "test_datagen = ImageDataGenerator(rescale = 1./255)\n",
    "test_set = test_datagen.flow_from_directory('dataset/test_set',\n",
    "                                            target_size = (64, 64),\n",
    "                                            batch_size = 32,\n",
    "                                            class_mode = 'binary')"
   ]
  },
  {
   "cell_type": "code",
   "execution_count": 5,
   "id": "ethical-peripheral",
   "metadata": {},
   "outputs": [],
   "source": [
    "cnn= tf.keras.models.Sequential()"
   ]
  },
  {
   "cell_type": "code",
   "execution_count": 6,
   "id": "roman-aberdeen",
   "metadata": {},
   "outputs": [],
   "source": [
    "cnn.add(tf.keras.layers.Conv2D(filters=32, kernel_size=3, activation='relu', input_shape =[64,64,3]))"
   ]
  },
  {
   "cell_type": "code",
   "execution_count": 9,
   "id": "variable-counter",
   "metadata": {},
   "outputs": [],
   "source": [
    "cnn.add(tf.keras.layers.MaxPool2D(pool_size=2, strides=2))"
   ]
  },
  {
   "cell_type": "code",
   "execution_count": 12,
   "id": "organic-bracelet",
   "metadata": {},
   "outputs": [],
   "source": [
    "cnn.add(tf.keras.layers.Conv2D(filters=32, kernel_size=3, activation='relu'))\n",
    "\n",
    "cnn.add(tf.keras.layers.MaxPool2D(pool_size=2, strides=2))"
   ]
  },
  {
   "cell_type": "code",
   "execution_count": 13,
   "id": "genetic-welsh",
   "metadata": {},
   "outputs": [],
   "source": [
    "cnn.add(tf.keras.layers.Flatten())"
   ]
  },
  {
   "cell_type": "code",
   "execution_count": 14,
   "id": "functioning-shipping",
   "metadata": {},
   "outputs": [],
   "source": [
    "cnn.add(tf.keras.layers.Dense(units=128, activation='relu'))"
   ]
  },
  {
   "cell_type": "code",
   "execution_count": 15,
   "id": "deadly-particular",
   "metadata": {},
   "outputs": [],
   "source": [
    "cnn.add(tf.keras.layers.Dense(units=1, activation='sigmoid'))"
   ]
  },
  {
   "cell_type": "code",
   "execution_count": 16,
   "id": "arbitrary-position",
   "metadata": {},
   "outputs": [],
   "source": [
    "cnn.compile(optimizer = 'adam', loss = 'binary_crossentropy', metrics = ['accuracy'])"
   ]
  },
  {
   "cell_type": "code",
   "execution_count": 17,
   "id": "dressed-fighter",
   "metadata": {},
   "outputs": [
    {
     "name": "stdout",
     "output_type": "stream",
     "text": [
      "Epoch 1/25\n",
      "250/250 [==============================] - 433s 2s/step - loss: 0.6807 - accuracy: 0.5639 - val_loss: 0.7191 - val_accuracy: 0.5360\n",
      "Epoch 2/25\n",
      "250/250 [==============================] - 310s 1s/step - loss: 0.6189 - accuracy: 0.6500 - val_loss: 0.5591 - val_accuracy: 0.7235\n",
      "Epoch 3/25\n",
      "250/250 [==============================] - 70s 280ms/step - loss: 0.5724 - accuracy: 0.6951 - val_loss: 0.5377 - val_accuracy: 0.7375\n",
      "Epoch 4/25\n",
      "250/250 [==============================] - 55s 221ms/step - loss: 0.5457 - accuracy: 0.7248 - val_loss: 0.5177 - val_accuracy: 0.7395\n",
      "Epoch 5/25\n",
      "250/250 [==============================] - 57s 226ms/step - loss: 0.5240 - accuracy: 0.7377 - val_loss: 0.4834 - val_accuracy: 0.7615\n",
      "Epoch 6/25\n",
      "250/250 [==============================] - 57s 228ms/step - loss: 0.4905 - accuracy: 0.7636 - val_loss: 0.4766 - val_accuracy: 0.7745\n",
      "Epoch 7/25\n",
      "250/250 [==============================] - 57s 227ms/step - loss: 0.4841 - accuracy: 0.7637 - val_loss: 0.4933 - val_accuracy: 0.7650\n",
      "Epoch 8/25\n",
      "250/250 [==============================] - 57s 228ms/step - loss: 0.4800 - accuracy: 0.7676 - val_loss: 0.4807 - val_accuracy: 0.7805\n",
      "Epoch 9/25\n",
      "250/250 [==============================] - 58s 231ms/step - loss: 0.4576 - accuracy: 0.7811 - val_loss: 0.4596 - val_accuracy: 0.7815\n",
      "Epoch 10/25\n",
      "250/250 [==============================] - 57s 229ms/step - loss: 0.4463 - accuracy: 0.7836 - val_loss: 0.4461 - val_accuracy: 0.7865\n",
      "Epoch 11/25\n",
      "250/250 [==============================] - 57s 228ms/step - loss: 0.4383 - accuracy: 0.7876 - val_loss: 0.4373 - val_accuracy: 0.7995\n",
      "Epoch 12/25\n",
      "250/250 [==============================] - 58s 230ms/step - loss: 0.4154 - accuracy: 0.8103 - val_loss: 0.4904 - val_accuracy: 0.7600\n",
      "Epoch 13/25\n",
      "250/250 [==============================] - 57s 230ms/step - loss: 0.4169 - accuracy: 0.8093 - val_loss: 0.4523 - val_accuracy: 0.7910\n",
      "Epoch 14/25\n",
      "250/250 [==============================] - 58s 231ms/step - loss: 0.4088 - accuracy: 0.8170 - val_loss: 0.4262 - val_accuracy: 0.8070\n",
      "Epoch 15/25\n",
      "250/250 [==============================] - 58s 232ms/step - loss: 0.3905 - accuracy: 0.8242 - val_loss: 0.4137 - val_accuracy: 0.8160\n",
      "Epoch 16/25\n",
      "250/250 [==============================] - 58s 233ms/step - loss: 0.3833 - accuracy: 0.8297 - val_loss: 0.3978 - val_accuracy: 0.8250\n",
      "Epoch 17/25\n",
      "250/250 [==============================] - 57s 230ms/step - loss: 0.3825 - accuracy: 0.8317 - val_loss: 0.4569 - val_accuracy: 0.7985\n",
      "Epoch 18/25\n",
      "250/250 [==============================] - 68s 270ms/step - loss: 0.3768 - accuracy: 0.8283 - val_loss: 0.4079 - val_accuracy: 0.8245\n",
      "Epoch 19/25\n",
      "250/250 [==============================] - 204s 816ms/step - loss: 0.3530 - accuracy: 0.8414 - val_loss: 0.4769 - val_accuracy: 0.7820\n",
      "Epoch 20/25\n",
      "250/250 [==============================] - 238s 954ms/step - loss: 0.3494 - accuracy: 0.8427 - val_loss: 0.4213 - val_accuracy: 0.8040\n",
      "Epoch 21/25\n",
      "250/250 [==============================] - 258s 1s/step - loss: 0.3480 - accuracy: 0.8508 - val_loss: 0.4590 - val_accuracy: 0.7885\n",
      "Epoch 22/25\n",
      "250/250 [==============================] - 246s 986ms/step - loss: 0.3436 - accuracy: 0.8438 - val_loss: 0.4525 - val_accuracy: 0.8000\n",
      "Epoch 23/25\n",
      "250/250 [==============================] - 149s 596ms/step - loss: 0.3176 - accuracy: 0.8636 - val_loss: 0.4061 - val_accuracy: 0.8200\n",
      "Epoch 24/25\n",
      "250/250 [==============================] - 146s 584ms/step - loss: 0.3086 - accuracy: 0.8660 - val_loss: 0.4701 - val_accuracy: 0.7865\n",
      "Epoch 25/25\n",
      "250/250 [==============================] - 166s 663ms/step - loss: 0.2921 - accuracy: 0.8770 - val_loss: 0.4623 - val_accuracy: 0.7965\n"
     ]
    },
    {
     "data": {
      "text/plain": [
       "<tensorflow.python.keras.callbacks.History at 0x1faf68ab8c8>"
      ]
     },
     "execution_count": 17,
     "metadata": {},
     "output_type": "execute_result"
    }
   ],
   "source": [
    "cnn.fit(x = training_set, validation_data = test_set, epochs = 25)"
   ]
  },
  {
   "cell_type": "code",
   "execution_count": 20,
   "id": "legendary-dutch",
   "metadata": {},
   "outputs": [],
   "source": [
    "import numpy as np\n",
    "from keras.preprocessing import image\n",
    "test_image = image.load_img('dataset/single_prediction/cat_or_dog_2.jpg', target_size = (64, 64))\n",
    "test_image = image.img_to_array(test_image)\n",
    "test_image = np.expand_dims(test_image, axis = 0)\n",
    "result = cnn.predict(test_image)\n",
    "training_set.class_indices\n",
    "if result[0][0] == 1:\n",
    "  prediction = 'dog'\n",
    "else:\n",
    "  prediction = 'cat'"
   ]
  },
  {
   "cell_type": "code",
   "execution_count": 21,
   "id": "regulation-shanghai",
   "metadata": {},
   "outputs": [
    {
     "name": "stdout",
     "output_type": "stream",
     "text": [
      "cat\n"
     ]
    }
   ],
   "source": [
    "print(prediction)"
   ]
  },
  {
   "cell_type": "code",
   "execution_count": null,
   "id": "quantitative-diary",
   "metadata": {},
   "outputs": [],
   "source": []
  },
  {
   "cell_type": "code",
   "execution_count": null,
   "id": "comprehensive-howard",
   "metadata": {},
   "outputs": [],
   "source": []
  }
 ],
 "metadata": {
  "kernelspec": {
   "display_name": "Python 3",
   "language": "python",
   "name": "python3"
  },
  "language_info": {
   "codemirror_mode": {
    "name": "ipython",
    "version": 3
   },
   "file_extension": ".py",
   "mimetype": "text/x-python",
   "name": "python",
   "nbconvert_exporter": "python",
   "pygments_lexer": "ipython3",
   "version": "3.7.4"
  }
 },
 "nbformat": 4,
 "nbformat_minor": 5
}
